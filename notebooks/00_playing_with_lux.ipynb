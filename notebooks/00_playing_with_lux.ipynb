{
 "cells": [
  {
   "cell_type": "code",
   "execution_count": 1,
   "id": "96967df6-b099-4fca-98e6-0e603680e117",
   "metadata": {},
   "outputs": [],
   "source": [
    "import pandas as pd\n",
    "import lux"
   ]
  },
  {
   "cell_type": "code",
   "execution_count": 2,
   "id": "dd465abf-f993-4fe6-8c55-c2ef21397f1d",
   "metadata": {},
   "outputs": [
    {
     "data": {
      "application/vnd.jupyter.widget-view+json": {
       "model_id": "c833f7824fdb44fca3abf6968a783608",
       "version_major": 2,
       "version_minor": 0
      },
      "text/plain": [
       "Button(description='Toggle Pandas/Lux', layout=Layout(top='5px', width='140px'), style=ButtonStyle())"
      ]
     },
     "metadata": {},
     "output_type": "display_data"
    },
    {
     "data": {
      "application/vnd.jupyter.widget-view+json": {
       "model_id": "a6c23b0d83644c789f8ffc72c27f7288",
       "version_major": 2,
       "version_minor": 0
      },
      "text/plain": [
       "Output()"
      ]
     },
     "metadata": {},
     "output_type": "display_data"
    }
   ],
   "source": [
    "df = pd.read_csv('https://raw.githubusercontent.com/lux-org/lux-datasets/master/data/college.csv')\n",
    "df"
   ]
  },
  {
   "cell_type": "code",
   "execution_count": 10,
   "id": "c85e4a59-63a5-4ca4-b883-b87b5f76c1cf",
   "metadata": {},
   "outputs": [
    {
     "data": {
      "application/vnd.jupyter.widget-view+json": {
       "model_id": "667cfd67b3c8431e857b7565782ac007",
       "version_major": 2,
       "version_minor": 0
      },
      "text/plain": [
       "Button(description='Toggle Pandas/Lux', layout=Layout(top='5px', width='140px'), style=ButtonStyle())"
      ]
     },
     "metadata": {},
     "output_type": "display_data"
    },
    {
     "data": {
      "application/vnd.jupyter.widget-view+json": {
       "model_id": "cabbbe526db04db5b8b60a768473a7c9",
       "version_major": 2,
       "version_minor": 0
      },
      "text/plain": [
       "Output()"
      ]
     },
     "metadata": {},
     "output_type": "display_data"
    }
   ],
   "source": [
    "owide = pd.read_csv('../data/owid-energy-data.csv')\n",
    "owide = owide[owide['year'] > 1990]\n",
    "owide['year'] = pd.to_datetime(owide['year'], format='%Y')\n",
    "owide_aut = owide[owide['country'] == 'Austria']\n",
    "owide_aut"
   ]
  },
  {
   "cell_type": "code",
   "execution_count": 32,
   "id": "3103bddd-6e46-4d59-b300-3b6b8b5938dd",
   "metadata": {},
   "outputs": [
    {
     "data": {
      "application/vnd.jupyter.widget-view+json": {
       "model_id": "a11cf165be0149c3a8e1bc7fab4dc9e7",
       "version_major": 2,
       "version_minor": 0
      },
      "text/plain": [
       "Button(description='Toggle Pandas/Lux', layout=Layout(top='5px', width='140px'), style=ButtonStyle())"
      ]
     },
     "metadata": {},
     "output_type": "display_data"
    },
    {
     "data": {
      "application/vnd.jupyter.widget-view+json": {
       "model_id": "588ccf09c15b4a778f2b9505c0f6e1bd",
       "version_major": 2,
       "version_minor": 0
      },
      "text/plain": [
       "Output()"
      ]
     },
     "metadata": {},
     "output_type": "display_data"
    }
   ],
   "source": [
    "day_ahead = pd.read_csv('../data/day_ahead_hourly_2019_2021_cleaned.csv')\n",
    "day_ahead['DateTime'] = pd.to_datetime(day_ahead['DateTime'], utc=True)\n",
    "day_ahead = day_ahead.set_index('DateTime').resample('1D').mean().tz_localize(None)\n",
    "\n",
    "commodities = pd.read_csv('../data/oil_gas_coal_daily_baselines_eur_mwh.csv')\n",
    "commodities['Date'] = pd.to_datetime(commodities['Date'], utc=True)\n",
    "commodities = commodities.set_index('Date').resample('1D').ffill().tz_localize(None)\n",
    "\n",
    "exploration_df = pd.DataFrame({\n",
    "    'day_ahead_aut': day_ahead['AT'],\n",
    "    'gas_price': commodities['gas_eur_mwh'],\n",
    "    'oil_price': commodities['oil_eur_mwh'],\n",
    "    'coal_price': commodities['coal_eur_mwh']\n",
    "}).dropna()\n",
    "exploration_df['date'] = exploration_df.index\n",
    "exploration_df.intent = ['gas_price', 'day_ahead_aut']\n",
    "exploration_df"
   ]
  }
 ],
 "metadata": {
  "kernelspec": {
   "display_name": "Python 3 (ipykernel)",
   "language": "python",
   "name": "python3"
  },
  "language_info": {
   "codemirror_mode": {
    "name": "ipython",
    "version": 3
   },
   "file_extension": ".py",
   "mimetype": "text/x-python",
   "name": "python",
   "nbconvert_exporter": "python",
   "pygments_lexer": "ipython3",
   "version": "3.9.10"
  }
 },
 "nbformat": 4,
 "nbformat_minor": 5
}
